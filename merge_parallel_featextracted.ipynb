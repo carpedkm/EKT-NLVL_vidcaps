{
 "cells": [
  {
   "cell_type": "markdown",
   "metadata": {},
   "source": [
    "# 2D / 3D ft extraction -> make it merged (after it's all parallel processed in extraction process)"
   ]
  },
  {
   "cell_type": "code",
   "execution_count": null,
   "metadata": {},
   "outputs": [],
   "source": []
  },
  {
   "cell_type": "code",
   "execution_count": null,
   "metadata": {},
   "outputs": [],
   "source": []
  },
  {
   "cell_type": "code",
   "execution_count": null,
   "metadata": {},
   "outputs": [],
   "source": []
  },
  {
   "cell_type": "code",
   "execution_count": 2,
   "metadata": {},
   "outputs": [],
   "source": [
    "import os\n",
    "import shutil"
   ]
  },
  {
   "cell_type": "code",
   "execution_count": 9,
   "metadata": {},
   "outputs": [],
   "source": [
    "pth = '/saat/Charades_for_SAAT/extracted_whole_charades_2D'\n",
    "spth = '/saat/Charades_for_SAAT/whole_charades_2D'"
   ]
  },
  {
   "cell_type": "code",
   "execution_count": 11,
   "metadata": {},
   "outputs": [],
   "source": [
    "if not os.path.exists(spth):\n",
    "    os.makedirs(spth)"
   ]
  },
  {
   "cell_type": "code",
   "execution_count": 4,
   "metadata": {},
   "outputs": [],
   "source": [
    "lst = os.listdir(pth)"
   ]
  },
  {
   "cell_type": "code",
   "execution_count": 6,
   "metadata": {},
   "outputs": [
    {
     "data": {
      "text/plain": [
       "['Feature_2D_0000_2000',\n",
       " 'Feature_2D_10000_11000',\n",
       " 'Feature_2D_11000_12000',\n",
       " 'Feature_2D_12000_12480',\n",
       " 'Feature_2D_2000_4000',\n",
       " 'Feature_2D_4000_6000',\n",
       " 'Feature_2D_6000_7000',\n",
       " 'Feature_2D_7000_8000',\n",
       " 'Feature_2D_8000_9000',\n",
       " 'Feature_2D_9000_10000']"
      ]
     },
     "execution_count": 6,
     "metadata": {},
     "output_type": "execute_result"
    }
   ],
   "source": [
    "sorted(lst)"
   ]
  },
  {
   "cell_type": "code",
   "execution_count": 7,
   "metadata": {},
   "outputs": [],
   "source": [
    "fl = ['Feature_2D_0000_2000',\n",
    " 'Feature_2D_2000_4000',\n",
    " 'Feature_2D_4000_6000',\n",
    " 'Feature_2D_6000_7000',\n",
    " 'Feature_2D_7000_8000',\n",
    " 'Feature_2D_8000_9000',\n",
    " 'Feature_2D_9000_10000',\n",
    " 'Feature_2D_10000_11000',\n",
    " 'Feature_2D_11000_12000',\n",
    " 'Feature_2D_12000_12480']"
   ]
  },
  {
   "cell_type": "code",
   "execution_count": 12,
   "metadata": {},
   "outputs": [
    {
     "name": "stderr",
     "output_type": "stream",
     "text": [
      "100%|██████████| 10/10 [00:02<00:00,  4.72it/s]\n"
     ]
    }
   ],
   "source": [
    "cnt_ = 0\n",
    "from tqdm import tqdm\n",
    "for f in tqdm(fl):\n",
    "    pth_to_readin = os.path.join(pth, f)\n",
    "    len_per_dir = len(os.listdir(pth_to_readin))\n",
    "    for val in range(len_per_dir):\n",
    "        srcf = os.path.join(pth_to_readin, str(val) + '.npy')\n",
    "        dstf = os.path.join(spth, str(val + cnt_) + '.npy')\n",
    "        shutil.copyfile(srcf, dstf)\n",
    "    \n",
    "\n",
    "\n",
    "    cnt_ += len_per_dir"
   ]
  },
  {
   "cell_type": "code",
   "execution_count": null,
   "metadata": {},
   "outputs": [],
   "source": [
    "# 3D"
   ]
  },
  {
   "cell_type": "code",
   "execution_count": null,
   "metadata": {},
   "outputs": [],
   "source": [
    "import os\n",
    "import shutil"
   ]
  },
  {
   "cell_type": "code",
   "execution_count": 14,
   "metadata": {},
   "outputs": [],
   "source": [
    "pth = '/saat/Charades_for_SAAT/charades_3d_feature_all'\n",
    "spth = '/saat/Charades_for_SAAT/whole_charades_3D'"
   ]
  },
  {
   "cell_type": "code",
   "execution_count": 15,
   "metadata": {},
   "outputs": [],
   "source": [
    "if not os.path.exists(spth):\n",
    "    os.makedirs(spth)"
   ]
  },
  {
   "cell_type": "code",
   "execution_count": 16,
   "metadata": {},
   "outputs": [],
   "source": [
    "lst = os.listdir(pth)"
   ]
  },
  {
   "cell_type": "code",
   "execution_count": 17,
   "metadata": {},
   "outputs": [
    {
     "data": {
      "text/plain": [
       "['Feature_3D_0',\n",
       " 'Feature_3D_1',\n",
       " 'Feature_3D_2',\n",
       " 'Feature_3D_3',\n",
       " 'Feature_3D_4']"
      ]
     },
     "execution_count": 17,
     "metadata": {},
     "output_type": "execute_result"
    }
   ],
   "source": [
    "sorted(lst)"
   ]
  },
  {
   "cell_type": "code",
   "execution_count": 18,
   "metadata": {},
   "outputs": [],
   "source": [
    "# fl = ['Feature_2D_0000_2000',\n",
    "#  'Feature_2D_2000_4000',\n",
    "#  'Feature_2D_4000_6000',\n",
    "#  'Feature_2D_6000_7000',\n",
    "#  'Feature_2D_7000_8000',\n",
    "#  'Feature_2D_8000_9000',\n",
    "#  'Feature_2D_9000_10000',\n",
    "#  'Feature_2D_10000_11000',\n",
    "#  'Feature_2D_11000_12000',\n",
    "#  'Feature_2D_12000_12480']"
   ]
  },
  {
   "cell_type": "code",
   "execution_count": 20,
   "metadata": {},
   "outputs": [
    {
     "name": "stderr",
     "output_type": "stream",
     "text": [
      "100%|██████████| 5/5 [00:52<00:00, 10.66s/it]\n"
     ]
    }
   ],
   "source": [
    "cnt_ = 0\n",
    "from tqdm import tqdm\n",
    "for f in tqdm(lst):\n",
    "    pth_to_readin = os.path.join(pth, f)\n",
    "    len_per_dir = len(os.listdir(pth_to_readin))\n",
    "    for val in range(len_per_dir):\n",
    "        srcf = os.path.join(pth_to_readin, str(val) + '.npy')\n",
    "        dstf = os.path.join(spth, str(val + cnt_) + '.npy')\n",
    "        shutil.copyfile(srcf, dstf)\n",
    "    \n",
    "\n",
    "\n",
    "    cnt_ += len_per_dir"
   ]
  },
  {
   "cell_type": "code",
   "execution_count": null,
   "metadata": {},
   "outputs": [],
   "source": []
  }
 ],
 "metadata": {
  "interpreter": {
   "hash": "d4d1e4263499bec80672ea0156c357c1ee493ec2b1c70f0acce89fc37c4a6abe"
  },
  "kernelspec": {
   "display_name": "Python 3.6.7 ('base')",
   "language": "python",
   "name": "python3"
  },
  "language_info": {
   "codemirror_mode": {
    "name": "ipython",
    "version": 3
   },
   "file_extension": ".py",
   "mimetype": "text/x-python",
   "name": "python",
   "nbconvert_exporter": "python",
   "pygments_lexer": "ipython3",
   "version": "3.6.7"
  },
  "orig_nbformat": 4
 },
 "nbformat": 4,
 "nbformat_minor": 2
}
