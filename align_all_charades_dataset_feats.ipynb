{
 "cells": [
  {
   "cell_type": "code",
   "execution_count": 75,
   "metadata": {},
   "outputs": [],
   "source": [
    "import os\n",
    "import numpy as np\n",
    "import shutil"
   ]
  },
  {
   "cell_type": "code",
   "execution_count": 76,
   "metadata": {},
   "outputs": [],
   "source": [
    "rt_dir = '/saat/Charades_for_SAAT/extracted_whole_charades_2D'\n",
    "to_save_pth = '/saat/Charades_for_SAAT/ordered_2D_charades'"
   ]
  },
  {
   "cell_type": "code",
   "execution_count": 77,
   "metadata": {},
   "outputs": [],
   "source": [
    "flist = os.listdir(rt_dir)"
   ]
  },
  {
   "cell_type": "code",
   "execution_count": 78,
   "metadata": {},
   "outputs": [
    {
     "data": {
      "text/plain": [
       "['Feature_2D_0000_2000',\n",
       " 'Feature_2D_10000_11000',\n",
       " 'Feature_2D_11000_12000',\n",
       " 'Feature_2D_12000_12480',\n",
       " 'Feature_2D_2000_4000',\n",
       " 'Feature_2D_4000_6000',\n",
       " 'Feature_2D_6000_7000',\n",
       " 'Feature_2D_7000_8000',\n",
       " 'Feature_2D_8000_9000',\n",
       " 'Feature_2D_9000_10000']"
      ]
     },
     "execution_count": 78,
     "metadata": {},
     "output_type": "execute_result"
    }
   ],
   "source": [
    "sorted(flist)"
   ]
  },
  {
   "cell_type": "code",
   "execution_count": 79,
   "metadata": {},
   "outputs": [],
   "source": [
    "if not os.path.exists(to_save_pth):\n",
    "    os.makedirs(to_save_pth)"
   ]
  },
  {
   "cell_type": "code",
   "execution_count": null,
   "metadata": {},
   "outputs": [],
   "source": []
  },
  {
   "cell_type": "code",
   "execution_count": 80,
   "metadata": {},
   "outputs": [],
   "source": [
    "file_list = ['Feature_2D_0000_2000',\n",
    " 'Feature_2D_2000_4000',\n",
    " 'Feature_2D_4000_6000',\n",
    " 'Feature_2D_6000_7000',\n",
    " 'Feature_2D_7000_8000',\n",
    " 'Feature_2D_8000_9000',\n",
    " 'Feature_2D_9000_10000',\n",
    " 'Feature_2D_10000_11000',\n",
    " 'Feature_2D_11000_12000',\n",
    " 'Feature_2D_12000_12480']"
   ]
  },
  {
   "cell_type": "code",
   "execution_count": 81,
   "metadata": {},
   "outputs": [],
   "source": [
    "counter_ = 0\n",
    "for flist_ in file_list:\n",
    "    tmp_path = os.path.join(rt_dir, flist_)\n",
    "    tmpvid_list = os.listdir(tmp_path)\n",
    "    # make mapping with dir / int\n",
    "    vid_len = len(tmpvid_list)\n",
    "    \n",
    "    \n",
    "    for i in range(vid_len):\n",
    "        full_tmp_path = os.path.join(tmp_path, str(i) + '.npy')\n",
    "        src_pth = full_tmp_path\n",
    "        dst_pth = os.path.join(to_save_pth, str(i + counter_) + '.npy')\n",
    "        shutil.copy(src_pth, dst_pth)\n",
    "    counter_ += vid_len\n"
   ]
  },
  {
   "cell_type": "code",
   "execution_count": 82,
   "metadata": {},
   "outputs": [
    {
     "data": {
      "text/plain": [
       "9190"
      ]
     },
     "execution_count": 82,
     "metadata": {},
     "output_type": "execute_result"
    }
   ],
   "source": [
    "counter_"
   ]
  },
  {
   "cell_type": "code",
   "execution_count": null,
   "metadata": {},
   "outputs": [],
   "source": []
  },
  {
   "cell_type": "code",
   "execution_count": null,
   "metadata": {},
   "outputs": [],
   "source": []
  },
  {
   "cell_type": "code",
   "execution_count": 83,
   "metadata": {},
   "outputs": [
    {
     "data": {
      "text/plain": [
       "9190"
      ]
     },
     "execution_count": 83,
     "metadata": {},
     "output_type": "execute_result"
    }
   ],
   "source": [
    "tmp1 = '/saat/Charades_for_SAAT/ordered_2D_charades'\n",
    "len(os.listdir(tmp1))"
   ]
  },
  {
   "cell_type": "code",
   "execution_count": 27,
   "metadata": {},
   "outputs": [
    {
     "data": {
      "text/plain": [
       "1492"
      ]
     },
     "execution_count": 27,
     "metadata": {},
     "output_type": "execute_result"
    }
   ],
   "source": [
    "tmp1 = '/saat/Charades_for_SAAT/extracted_whole_charades_2D/Feature_2D_0000_2000'\n",
    "len(os.listdir(tmp1))"
   ]
  },
  {
   "cell_type": "code",
   "execution_count": 28,
   "metadata": {},
   "outputs": [
    {
     "data": {
      "text/plain": [
       "1465"
      ]
     },
     "execution_count": 28,
     "metadata": {},
     "output_type": "execute_result"
    }
   ],
   "source": [
    "tmp2 = '/saat/Charades_for_SAAT/extracted_whole_charades_2D/Feature_2D_2000_4000'\n",
    "len(os.listdir(tmp2))"
   ]
  },
  {
   "cell_type": "code",
   "execution_count": 65,
   "metadata": {},
   "outputs": [],
   "source": [
    "tmp3 = '/saat/Charades_for_SAAT/ordered_2D_charades'"
   ]
  },
  {
   "cell_type": "code",
   "execution_count": 66,
   "metadata": {},
   "outputs": [
    {
     "data": {
      "text/plain": [
       "9193"
      ]
     },
     "execution_count": 66,
     "metadata": {},
     "output_type": "execute_result"
    }
   ],
   "source": [
    "len(os.listdir(tmp3))"
   ]
  },
  {
   "cell_type": "code",
   "execution_count": null,
   "metadata": {},
   "outputs": [],
   "source": []
  },
  {
   "cell_type": "code",
   "execution_count": null,
   "metadata": {},
   "outputs": [],
   "source": []
  },
  {
   "cell_type": "code",
   "execution_count": 29,
   "metadata": {},
   "outputs": [
    {
     "data": {
      "text/plain": [
       "2957"
      ]
     },
     "execution_count": 29,
     "metadata": {},
     "output_type": "execute_result"
    }
   ],
   "source": [
    "len(os.listdir(tmp1)) + len(os.listdir(tmp2))"
   ]
  },
  {
   "cell_type": "code",
   "execution_count": 48,
   "metadata": {},
   "outputs": [
    {
     "name": "stdout",
     "output_type": "stream",
     "text": [
      "9193\n"
     ]
    }
   ],
   "source": [
    "print(counter_)"
   ]
  },
  {
   "cell_type": "markdown",
   "metadata": {},
   "source": [
    "## 3D feat ext"
   ]
  },
  {
   "cell_type": "code",
   "execution_count": 57,
   "metadata": {},
   "outputs": [],
   "source": [
    "rtpath = '/saat/Charades_for_SAAT/charades_3d_feature_all'\n",
    "svpath = '/saat/Charades_for_SAAT/ordered_3D_charades'"
   ]
  },
  {
   "cell_type": "code",
   "execution_count": 58,
   "metadata": {},
   "outputs": [],
   "source": [
    "tmp = os.listdir(rtpath)"
   ]
  },
  {
   "cell_type": "code",
   "execution_count": 59,
   "metadata": {},
   "outputs": [
    {
     "data": {
      "text/plain": [
       "['Feature_3D_0',\n",
       " 'Feature_3D_1',\n",
       " 'Feature_3D_2',\n",
       " 'Feature_3D_3',\n",
       " 'Feature_3D_4',\n",
       " 'Feature_3D_legacy',\n",
       " 'Feature_3D_msr_vtt']"
      ]
     },
     "execution_count": 59,
     "metadata": {},
     "output_type": "execute_result"
    }
   ],
   "source": [
    "sorted(tmp)"
   ]
  },
  {
   "cell_type": "code",
   "execution_count": 60,
   "metadata": {},
   "outputs": [],
   "source": [
    "pthlst = ['Feature_3D_0',\n",
    " 'Feature_3D_1',\n",
    " 'Feature_3D_2',\n",
    " 'Feature_3D_3',\n",
    " 'Feature_3D_4']"
   ]
  },
  {
   "cell_type": "code",
   "execution_count": 63,
   "metadata": {},
   "outputs": [],
   "source": [
    "counter_ = 0\n",
    "for pth in pthlst:\n",
    "    tmpvidlst = os.listdir(os.path.join(rtpath, pth))\n",
    "    tmp_path = os.path.join(rtpath, pth)\n",
    "    vidlen = len(tmpvidlst)\n",
    "\n",
    "    for i in range(vidlen):\n",
    "\n",
    "        \n",
    "        srcpth = os.path.join(tmp_path, str(i) + '.npy')\n",
    "        dstpth = os.path.join(svpath, str(i + counter_) + '.npy')\n",
    "        shutil.copyfile(srcpth, dstpth)\n",
    "    counter_ += vidlen"
   ]
  },
  {
   "cell_type": "code",
   "execution_count": 64,
   "metadata": {},
   "outputs": [
    {
     "data": {
      "text/plain": [
       "9190"
      ]
     },
     "execution_count": 64,
     "metadata": {},
     "output_type": "execute_result"
    }
   ],
   "source": [
    "counter_"
   ]
  },
  {
   "cell_type": "code",
   "execution_count": null,
   "metadata": {},
   "outputs": [],
   "source": [
    "\n",
    "\n"
   ]
  },
  {
   "cell_type": "code",
   "execution_count": null,
   "metadata": {},
   "outputs": [],
   "source": []
  },
  {
   "cell_type": "code",
   "execution_count": null,
   "metadata": {},
   "outputs": [],
   "source": []
  },
  {
   "cell_type": "code",
   "execution_count": 67,
   "metadata": {},
   "outputs": [],
   "source": [
    "tmppth = '/saat/charades_train_mapping_for_vid_cap.json'"
   ]
  },
  {
   "cell_type": "code",
   "execution_count": 68,
   "metadata": {},
   "outputs": [],
   "source": [
    "import json\n",
    "with open(tmppth, 'r') as f:\n",
    "    tmp = json.load(f)"
   ]
  },
  {
   "cell_type": "code",
   "execution_count": 70,
   "metadata": {},
   "outputs": [],
   "source": [
    "total_len = 0\n",
    "for key in  list(tmp.keys()):\n",
    "    elem_len = len(tmp[key])\n",
    "    total_len += elem_len"
   ]
  },
  {
   "cell_type": "code",
   "execution_count": 71,
   "metadata": {},
   "outputs": [
    {
     "data": {
      "text/plain": [
       "10672"
      ]
     },
     "execution_count": 71,
     "metadata": {},
     "output_type": "execute_result"
    }
   ],
   "source": [
    "total_len"
   ]
  },
  {
   "cell_type": "code",
   "execution_count": null,
   "metadata": {},
   "outputs": [],
   "source": []
  }
 ],
 "metadata": {
  "interpreter": {
   "hash": "d4d1e4263499bec80672ea0156c357c1ee493ec2b1c70f0acce89fc37c4a6abe"
  },
  "kernelspec": {
   "display_name": "Python 3.8.5 ('base')",
   "language": "python",
   "name": "python3"
  },
  "language_info": {
   "codemirror_mode": {
    "name": "ipython",
    "version": 3
   },
   "file_extension": ".py",
   "mimetype": "text/x-python",
   "name": "python",
   "nbconvert_exporter": "python",
   "pygments_lexer": "ipython3",
   "version": "3.8.5"
  },
  "orig_nbformat": 4
 },
 "nbformat": 4,
 "nbformat_minor": 2
}
