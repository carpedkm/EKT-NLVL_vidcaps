{
 "cells": [
  {
   "cell_type": "markdown",
   "metadata": {},
   "source": [
    "# With video captioning result: make it as the input for LGI"
   ]
  },
  {
   "cell_type": "code",
   "execution_count": 11,
   "metadata": {},
   "outputs": [],
   "source": [
    "import json\n",
    "with open('/saat/Charades_unsup_set_10_vidcaps_result.json', 'r') as f:\n",
    "    match_with_vidid = json.load(f)"
   ]
  },
  {
   "cell_type": "code",
   "execution_count": 12,
   "metadata": {},
   "outputs": [],
   "source": [
    "saatid = 0\n",
    "mapper = {}\n",
    "for id in list(match_with_vidid.keys()):\n",
    "    segs = match_with_vidid[id]['segment']\n",
    "    for seg in segs:\n",
    "        \n",
    "        mapper[saatid] = {'id': id, 'segment': seg}\n",
    "        saatid += 1"
   ]
  },
  {
   "cell_type": "code",
   "execution_count": 9,
   "metadata": {},
   "outputs": [
    {
     "ename": "FileNotFoundError",
     "evalue": "[Errno 2] No such file or directory: '/saat/Charades_unsup_set_4_vidcaps_result.json'",
     "output_type": "error",
     "traceback": [
      "\u001b[0;31m---------------------------------------------------------------------------\u001b[0m",
      "\u001b[0;31mFileNotFoundError\u001b[0m                         Traceback (most recent call last)",
      "\u001b[0;32m<ipython-input-9-90e680e33b84>\u001b[0m in \u001b[0;36m<module>\u001b[0;34m\u001b[0m\n\u001b[1;32m      1\u001b[0m \u001b[0;32mimport\u001b[0m \u001b[0mjson\u001b[0m\u001b[0;34m\u001b[0m\u001b[0;34m\u001b[0m\u001b[0m\n\u001b[1;32m      2\u001b[0m \u001b[0mjson_pth\u001b[0m \u001b[0;34m=\u001b[0m \u001b[0;34m'/saat/Charades_unsup_set_4_vidcaps_result.json'\u001b[0m\u001b[0;34m\u001b[0m\u001b[0;34m\u001b[0m\u001b[0m\n\u001b[0;32m----> 3\u001b[0;31m \u001b[0;32mwith\u001b[0m \u001b[0mopen\u001b[0m\u001b[0;34m(\u001b[0m\u001b[0mjson_pth\u001b[0m\u001b[0;34m,\u001b[0m \u001b[0;34m'r'\u001b[0m\u001b[0;34m)\u001b[0m \u001b[0;32mas\u001b[0m \u001b[0mf\u001b[0m\u001b[0;34m:\u001b[0m\u001b[0;34m\u001b[0m\u001b[0;34m\u001b[0m\u001b[0m\n\u001b[0m\u001b[1;32m      4\u001b[0m     \u001b[0msaat_res\u001b[0m \u001b[0;34m=\u001b[0m \u001b[0mjson\u001b[0m\u001b[0;34m.\u001b[0m\u001b[0mload\u001b[0m\u001b[0;34m(\u001b[0m\u001b[0mf\u001b[0m\u001b[0;34m)\u001b[0m\u001b[0;34m\u001b[0m\u001b[0;34m\u001b[0m\u001b[0m\n",
      "\u001b[0;31mFileNotFoundError\u001b[0m: [Errno 2] No such file or directory: '/saat/Charades_unsup_set_4_vidcaps_result.json'"
     ]
    }
   ],
   "source": [
    "import json\n",
    "json_pth = '/saat/Charades_unsup_set_10_vidcaps_result.json'\n",
    "with open(json_pth, 'r') as f:\n",
    "    saat_res = json.load(f)\n"
   ]
  },
  {
   "cell_type": "code",
   "execution_count": 10,
   "metadata": {},
   "outputs": [],
   "source": [
    "preds = saat_res['predictions']"
   ]
  },
  {
   "cell_type": "code",
   "execution_count": 5,
   "metadata": {},
   "outputs": [],
   "source": [
    "to_write = ''\n",
    "for pred in preds:\n",
    "    tmp_write = ''\n",
    "    imageid = pred['image_id']\n",
    "    vidid = mapper[imageid]['id']\n",
    "    caption =pred['caption']\n",
    "    # print(vidid, caption)\n",
    "    segment = mapper[imageid]['segment']\n",
    "    tmp_write = vidid + ' ' + str(segment[0]) + ' ' + str(segment[1]) + '##' + caption + '\\n'\n",
    "    # print(tmp_write)\n",
    "    to_write += tmp_write\n",
    "    \n",
    "    # break"
   ]
  },
  {
   "cell_type": "code",
   "execution_count": 6,
   "metadata": {},
   "outputs": [
    {
     "data": {
      "text/plain": [
       "'001YG 0.0 11.440439560439561##a man is playing a bed\\n001YG 0.0 15.478241758241758##a girl is playing with a toy\\n00NN7 9.758021978021977 30.62##a man is running\\n08Y62 0.0 29.96##a man is putting a container of a box\\n2Q3ZJ 30.664 38.33##a cat is playing a wall\\nSZYJO 0.0 17.763736263736266##a man is playing a computer\\nSZYJO 0.0 30.5##a man is playing a guitar\\nSZYJO 17.763736263736266 30.5##a man is putting a keyboard\\nT03KF 0.0 23.72774193548387##a man is dancing\\nT03KF 0.0 31.08##a man is dancing\\nT03KF 13.033548387096774 31.08##a man is dancing\\nT03KF 23.72774193548387 31.08##a boy is dancing\\nT04MB 14.391276595744682 31.46##a man is running\\nT04MB 6.693617021276596 31.46##a man is running\\nT0HLX 0.0 31.62##a man is looking a bag of a refrigerator\\n2Q5Y2 11.779444444444444 30.29##a girl is sweeping a room\\nT0PJG 0.0 34.21##a man is running\\nT0PJG 13.415686274509804 34.21##a dog is running\\nT0PJG 7.714019607843138 34.21##a man is running\\nT0V4O 0.0 32.17##a man is dancing\\nT0V4O 24.1275 32.17##a man is playing\\nT0V4O 5.696770833333334 32.17##a man is running\\nT0WKT 0.0 19.77141304347826##a man is playing a car\\nT0WKT 11.728804347826086 25.468260869565217##a man is playing a skateboard\\nT0WKT 11.728804347826086 30.83##a man is playing a wall\\nT0WKT 19.77141304347826 25.468260869565217##a man is doing a wall\\n2QI8F 0.0 14.72625##a man is playing a plastic container\\nT0WKT 19.77141304347826 30.83##a man is doing a wall\\nT1CQE 0.0 12.097358490566036##a woman is dancing\\nT1CQE 0.0 19.154150943396225##a woman is dancing\\nT1FTD 0.0 33.88##a man is running\\nT1KK1 0.0 31.75##a man is running\\nT1NS2 29.330642201834863 36.33##a man is cutting a piece of a knife\\nT1OQ2 0.0 30.5##a man is dancing\\nT1OQ2 6.7032967032967035 30.5##a man is putting a speech\\nT1XP2 0.0 10.082608695652175##a man is playing a keyboard\\nT1XP2 0.0 21.17347826086957##a man is playing a bag\\n2QI8F 0.0 21.42##a man is running\\nT1XP2 0.0 30.92##a man is running\\nT28D7 2.6841666666666666 26.84166666666667##a woman is putting a pan\\nT28D7 26.84166666666667 32.21##a man is putting a pan\\nT2EIY 0.0 19.128709677419355##a man is running in a bag\\nT2EIY 19.128709677419355 31.21##a man is running\\nT2S96 0.0 5.62##a man is playing a harp\\nT2XVO 0.0 19.209##a man is looking in a room\\nT2XVO 0.0 2.359##a man is looking at a closet\\nT2XVO 0.0 26.96##a man is running\\nT342T 0.0 15.021649484536084##a man is playing with a ball\\n2QWGI 12.774705882352942 34.29##a man is playing a keyboard\\nT342T 0.0 32.38##a man is playing a ball\\n'"
      ]
     },
     "execution_count": 6,
     "metadata": {},
     "output_type": "execute_result"
    }
   ],
   "source": [
    "to_write"
   ]
  },
  {
   "cell_type": "code",
   "execution_count": 7,
   "metadata": {},
   "outputs": [],
   "source": [
    "with open('/saat/Charades_for_SAAT_unsup_set_4/charades_unsup_set_4_video_caps.txt', 'w') as f:\n",
    "    f.writelines(to_write)"
   ]
  },
  {
   "cell_type": "code",
   "execution_count": null,
   "metadata": {},
   "outputs": [],
   "source": []
  }
 ],
 "metadata": {
  "interpreter": {
   "hash": "d4d1e4263499bec80672ea0156c357c1ee493ec2b1c70f0acce89fc37c4a6abe"
  },
  "kernelspec": {
   "display_name": "Python 3.6.7 ('base')",
   "language": "python",
   "name": "python3"
  },
  "language_info": {
   "codemirror_mode": {
    "name": "ipython",
    "version": 3
   },
   "file_extension": ".py",
   "mimetype": "text/x-python",
   "name": "python",
   "nbconvert_exporter": "python",
   "pygments_lexer": "ipython3",
   "version": "3.8.5"
  },
  "orig_nbformat": 4
 },
 "nbformat": 4,
 "nbformat_minor": 2
}
