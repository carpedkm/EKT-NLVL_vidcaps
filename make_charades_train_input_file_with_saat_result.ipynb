{
 "cells": [
  {
   "cell_type": "markdown",
   "metadata": {},
   "source": [
    "# With video captioning result: make it as the input for LGI"
   ]
  },
  {
   "cell_type": "code",
   "execution_count": 6,
   "metadata": {},
   "outputs": [],
   "source": [
    "import json\n",
    "with open('/saat/charades_train_mapping_for_vid_cap.json', 'r') as f:\n",
    "    match_with_vidid = json.load(f)"
   ]
  },
  {
   "cell_type": "code",
   "execution_count": 14,
   "metadata": {},
   "outputs": [],
   "source": [
    "saatid = 0\n",
    "mapper = {}\n",
    "for id in list(match_with_vidid.keys()):\n",
    "    segs = match_with_vidid[id]['segment']\n",
    "    for seg in segs:\n",
    "        \n",
    "        mapper[saatid] = {'id': id, 'segment': seg}\n",
    "        saatid += 1"
   ]
  },
  {
   "cell_type": "code",
   "execution_count": 1,
   "metadata": {},
   "outputs": [],
   "source": [
    "import json\n",
    "json_pth = '/saat/temp_charades_test.json'\n",
    "with open(json_pth, 'r') as f:\n",
    "    saat_res = json.load(f)\n"
   ]
  },
  {
   "cell_type": "code",
   "execution_count": 8,
   "metadata": {},
   "outputs": [],
   "source": [
    "preds = saat_res['predictions']"
   ]
  },
  {
   "cell_type": "code",
   "execution_count": 17,
   "metadata": {},
   "outputs": [],
   "source": [
    "to_write = ''\n",
    "for pred in preds[:50]:\n",
    "    tmp_write = ''\n",
    "    imageid = pred['image_id']\n",
    "    vidid = mapper[imageid]['id']\n",
    "    caption =pred['caption']\n",
    "    # print(vidid, caption)\n",
    "    segment = mapper[imageid]['segment']\n",
    "    tmp_write = vidid + ' ' + str(segment[0]) + ' ' + str(segment[1]) + '##' + caption + '\\n'\n",
    "    # print(tmp_write)\n",
    "    to_write += tmp_write\n",
    "    \n",
    "    # break"
   ]
  },
  {
   "cell_type": "code",
   "execution_count": 18,
   "metadata": {},
   "outputs": [
    {
     "data": {
      "text/plain": [
       "'004QE 14.2 22.5##a woman is doing a <unk>\\n00HFP 13.6 21.9##a man is running\\n00X3U 14.9 20.5##a man is running\\n0DDYA 3.5 9.9##a woman is washing a box\\n3Z08H 3.8 10.5##two men are running\\n3Z1YC 14.8 27.4##a woman is running\\n3Z1YC 14.8 29.2##a woman is running\\n3Z7KH 12.5 20.4##a dog is playing with a toy\\n3Z7KH 29.5 31.46##a man is playing a toy\\n3ZC4Y 15.1 21.7##a woman is washing\\n3ZH9Z 0.0 9.7##a man is dancing\\n3ZHEX 0.0 5.3##a man is looking at a closet\\n3ZHEX 0.1 7.1##a man is looking at a closet\\n0DDYA 34.8 39.9##a woman is washing a hair\\n3ZHEX 1.4 9.4##a man is looking at a calendar\\n3ZHEX 7.3 14.5##a man is dancing\\n3ZUVI 0.0 3.4##a man is doing a bag\\n3ZUVI 1.0 6.8##a man is doing a bag\\n3ZUVI 2.8 7.6##a man is playing a keyboard\\n3ZUVI 6.2 11.5##a man is playing a speech\\n3ZUVI 7.9 13.2##a man is playing a keyboard\\n4021D 23.5 31.1##a man is sweeping a room\\n4021N 24.0 28.7##a man is putting a bag of a bag\\n40309 22.4 29.2##a man is looking\\n0DDYA 7.6 27.3##a woman is washing a box\\n406LH 1.4 9.0##a woman is dancing\\n406LH 13.9 20.1##a woman is running\\n40NIM 10.0 19.1##a man is pushing a bag of a bag\\n40TYU 9.7 14.6##a man is talking on a bed\\n417RA 0.0 11.4##a man is playing a bed\\n0DY8C 0.0 9.0##a cat is playing with a toy\\n417RA 15.9 30.29##a man is playing a guitar\\n41CZS 12.5 19.6##a woman is looking a hair\\n41CZS 14.3 23.4##a woman is looking a closet\\n41CZS 2.3 15.7##a woman is looking a hair\\n41EQS 0.0 8.7##a man is running\\n41EQS 6.8 13.8##a man is jumping\\n41FNM 15.3 29.2##a woman is dancing in a room\\n41FNM 4.0 10.5##a woman is dancing in a room\\n41GXC 0.0 10.2##a man is running\\n41GXC 19.7 27.7##a man is running\\n0EGNU 0.7 9.0##a man is playing a bed\\n41GXC 7.5 12.3##a cat is jumping\\n41O3J 10.0 19.0##a man is playing a box\\n41O3J 21.1 26.8##a woman is washing a pan\\n41O3J 6.4 12.9##a man is eating a keyboard\\n41SB2 11.0 16.0##a woman is putting a box\\n41SB2 2.0 11.0##a man is doing a hair\\n41SB2 3.0 10.0##a man is doing a hair\\n42E9I 31.0 33.29##a man is talking on a counter\\n'"
      ]
     },
     "execution_count": 18,
     "metadata": {},
     "output_type": "execute_result"
    }
   ],
   "source": [
    "to_write"
   ]
  },
  {
   "cell_type": "code",
   "execution_count": 19,
   "metadata": {},
   "outputs": [],
   "source": [
    "with open('charades_video_cap_gt_bd.txt', 'w') as f:\n",
    "    f.writelines(to_write)"
   ]
  },
  {
   "cell_type": "code",
   "execution_count": null,
   "metadata": {},
   "outputs": [],
   "source": []
  }
 ],
 "metadata": {
  "interpreter": {
   "hash": "d4d1e4263499bec80672ea0156c357c1ee493ec2b1c70f0acce89fc37c4a6abe"
  },
  "kernelspec": {
   "display_name": "Python 3.6.7 ('base')",
   "language": "python",
   "name": "python3"
  },
  "language_info": {
   "codemirror_mode": {
    "name": "ipython",
    "version": 3
   },
   "file_extension": ".py",
   "mimetype": "text/x-python",
   "name": "python",
   "nbconvert_exporter": "python",
   "pygments_lexer": "ipython3",
   "version": "3.8.5"
  },
  "orig_nbformat": 4
 },
 "nbformat": 4,
 "nbformat_minor": 2
}
